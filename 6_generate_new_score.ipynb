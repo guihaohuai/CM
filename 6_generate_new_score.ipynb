{
 "cells": [
  {
   "cell_type": "code",
   "execution_count": null,
   "id": "094e5ec9",
   "metadata": {},
   "outputs": [],
   "source": [
    "%matplotlib inline\n",
    "import numpy as np\n",
    "#import torch\n",
    "import pandas as pd\n",
    "import seaborn as sns\n",
    "import matplotlib.pyplot as plt\n",
    "#import missingno as msno\n",
    "\n",
    "import os\n",
    "os.environ['KMP_DUPLICATE_LIB_OK']='True'\n",
    "os.environ[\"OMP_NUM_THREADS\"] = '9' \n",
    "\n",
    "#---------------------------------------------------\n",
    "import sklearn\n",
    "from sklearn import metrics\n",
    "from sklearn.metrics import RocCurveDisplay\n",
    "from sklearn import tree\n",
    "from sklearn.neighbors import KNeighborsClassifier\n",
    "from sklearn import linear_model\n",
    "\n",
    "from sklearn.naive_bayes import GaussianNB\n",
    "from sklearn.naive_bayes import MultinomialNB\n",
    "from sklearn.naive_bayes import BernoulliNB\n",
    "\n",
    "from sklearn import svm\n",
    "from sklearn.ensemble import RandomForestClassifier\n",
    "from xgboost import XGBClassifier\n",
    "from sklearn.ensemble import AdaBoostClassifier\n",
    "\n",
    "#---------------------------\n",
    "from sklearn.model_selection import GridSearchCV"
   ]
  },
  {
   "cell_type": "code",
   "execution_count": null,
   "id": "dc6881c1",
   "metadata": {},
   "outputs": [],
   "source": [
    "\n",
    "def get_data(data,name):\n",
    "    train_data = data #train[0] / test[0]\n",
    "    target_name = name #\"y4\"\n",
    "    \n",
    "    df= train_data\n",
    "    features=df.columns.tolist()\n",
    "    features.remove( target_name )\n",
    "    y=df[ target_name ]\n",
    "    X=df[features].values\n",
    "    return X,y"
   ]
  },
  {
   "cell_type": "code",
   "execution_count": null,
   "id": "19d220b1",
   "metadata": {},
   "outputs": [],
   "source": [
    "\n",
    "fpath=\"./lasso/5_train_liux_subx.xlsx\"\n",
    "df=pd.read_excel(fpath)"
   ]
  },
  {
   "cell_type": "code",
   "execution_count": null,
   "id": "4e46cfbb",
   "metadata": {},
   "outputs": [],
   "source": [
    "X,y = get_data(df,\"随访>=3\")\n",
    "\n",
    "\"\"\"\n",
    "from sklearn.ensemble import RandomForestClassifier\n",
    "#para = {'criterion': 'entropy', 'max_depth': 12, 'min_samples_leaf': 1, 'min_samples_split': 2, 'n_estimators': 20}\n",
    "para = {'criterion': 'entropy', 'max_depth': 2, 'min_samples_leaf': 1,  'n_estimators': 8}\n",
    "model = RandomForestClassifier(**para)\n",
    "model.fit(X, y)\n",
    "#\"\"\"\n",
    "\n",
    "#\"\"\"\n",
    "import xgboost as xgb\n",
    "para = {'max_depth': 2,  'n_estimators': 7,}#'min_child_weight': 0.3, # 'scale_pos_weight': 2.4\n",
    "model = xgb.XGBClassifier(**para)\n",
    "model.fit(X, y)\n",
    "#\"\"\"\n",
    "\n",
    "\"\"\"\n",
    "from sklearn.linear_model import LogisticRegression\n",
    "para = {'C': 5, 'class_weight': 'balanced', 'penalty': 'l2', 'solver': 'liblinear'}\n",
    "model = LogisticRegression(**para)\n",
    "model.fit(X, y)\n",
    "#\"\"\"\n",
    "\n",
    "\n",
    "y_probabilities_1 = model.predict_proba(X)\n",
    "\n",
    "\n",
    "\n",
    "fpath=\"./lasso/6_test_liux_subx.xlsx\"\n",
    "df=pd.read_excel(fpath)\n",
    "X,y = get_data(df,\"随访>=3\")\n",
    "y_probabilities_2 = model.predict_proba(X)"
   ]
  },
  {
   "cell_type": "code",
   "execution_count": null,
   "id": "02abe8d4",
   "metadata": {},
   "outputs": [],
   "source": [
    "y_probabilities_1[:,1]\n",
    "y_probabilities_2[:,1]"
   ]
  },
  {
   "cell_type": "code",
   "execution_count": null,
   "id": "06478a15",
   "metadata": {},
   "outputs": [],
   "source": [
    "np.concatenate((y_probabilities_1[:,1], y_probabilities_2[:,1]))"
   ]
  },
  {
   "cell_type": "code",
   "execution_count": null,
   "id": "21be665e",
   "metadata": {},
   "outputs": [],
   "source": [
    "score = np.concatenate((y_probabilities_1[:,1], y_probabilities_2[:,1]))"
   ]
  },
  {
   "cell_type": "code",
   "execution_count": null,
   "id": "2e20cb2f",
   "metadata": {},
   "outputs": [],
   "source": [
    "score = pd.DataFrame({'score': score})"
   ]
  },
  {
   "cell_type": "code",
   "execution_count": null,
   "id": "9bdc7652",
   "metadata": {
    "scrolled": false
   },
   "outputs": [],
   "source": [
    "score"
   ]
  },
  {
   "cell_type": "code",
   "execution_count": null,
   "id": "3f938d63",
   "metadata": {},
   "outputs": [],
   "source": [
    "type(score)"
   ]
  },
  {
   "cell_type": "code",
   "execution_count": null,
   "id": "94e49ba9",
   "metadata": {},
   "outputs": [],
   "source": [
    "fpath=\"./lasso_/label.xlsx\"\n",
    "df_label=pd.read_excel(fpath)"
   ]
  },
  {
   "cell_type": "code",
   "execution_count": null,
   "id": "45997e81",
   "metadata": {},
   "outputs": [],
   "source": [
    "score = pd.concat([df_label, score], axis=1)\n",
    "#score[[\"随访>=3\"]] = df_label[[\"随访>=3\"]]\n",
    "#score.rename(columns={'ID': '随访>=3'}, inplace=True)"
   ]
  },
  {
   "cell_type": "code",
   "execution_count": null,
   "id": "c44fc62a",
   "metadata": {},
   "outputs": [],
   "source": [
    "score"
   ]
  },
  {
   "cell_type": "code",
   "execution_count": null,
   "id": "de4d1c54",
   "metadata": {
    "scrolled": false
   },
   "outputs": [],
   "source": [
    "df1 = score.head(160)\n",
    "df2 = score.tail(58)\n",
    "\n",
    "\n",
    "plt.figure(figsize=(10, 6))\n",
    "\n",
    "\n",
    "plt.subplot(1, 2, 1)\n",
    "plt.boxplot([ df1[df1['随访>=3'] == 1]['score'] , df1[df1['随访>=3'] == 0]['score'] ],\n",
    "           labels=['favourable outcomes', 'unfavourable outcomes'])\n",
    "plt.xlabel('train')\n",
    "plt.ylabel('risk score')\n",
    "\n",
    "\n",
    "plt.subplot(1, 2, 2)\n",
    "plt.boxplot([ df2[df2['随访>=3'] == 1]['score'] , df2[df2['随访>=3'] == 0]['score'] ],\n",
    "           labels=['favourable outcomes', 'unfavourable outcomes'])\n",
    "plt.xlabel('test')\n",
    "\n",
    "\n",
    "plt.tight_layout()\n",
    "\n",
    "\n",
    "plt.show()"
   ]
  },
  {
   "cell_type": "code",
   "execution_count": null,
   "id": "a815dc22",
   "metadata": {},
   "outputs": [],
   "source": [
    "\n",
    "plt.figure(figsize=(8, 4))\n",
    "sns.histplot(score['score'], bins=20, kde=False, color='skyblue')\n",
    "plt.title('Distribution Plot')\n",
    "plt.xlabel('Value')\n",
    "plt.ylabel('Frequency')\n",
    "plt.show()\n"
   ]
  },
  {
   "cell_type": "code",
   "execution_count": null,
   "id": "b24d4a38",
   "metadata": {},
   "outputs": [],
   "source": [
    "fpath_out=\"./lasso_/XB_score.xlsx\"\n",
    "score.to_excel(fpath_out,index=False)"
   ]
  },
  {
   "cell_type": "code",
   "execution_count": null,
   "id": "6bdc52c0",
   "metadata": {},
   "outputs": [],
   "source": [
    "\n",
    "fpath=\"./data/norm_2_test_img_sub.xlsx\"\n",
    "df=pd.read_excel(fpath)"
   ]
  },
  {
   "cell_type": "code",
   "execution_count": null,
   "id": "8ede86bd",
   "metadata": {},
   "outputs": [],
   "source": [
    "need = df.columns.tolist()[]"
   ]
  }
 ],
 "metadata": {
  "kernelspec": {
   "display_name": "Python 3 (ipykernel)",
   "language": "python",
   "name": "python3"
  },
  "language_info": {
   "codemirror_mode": {
    "name": "ipython",
    "version": 3
   },
   "file_extension": ".py",
   "mimetype": "text/x-python",
   "name": "python",
   "nbconvert_exporter": "python",
   "pygments_lexer": "ipython3",
   "version": "3.11.5"
  },
  "toc": {
   "base_numbering": 1,
   "nav_menu": {},
   "number_sections": true,
   "sideBar": true,
   "skip_h1_title": false,
   "title_cell": "Table of Contents",
   "title_sidebar": "Contents",
   "toc_cell": false,
   "toc_position": {},
   "toc_section_display": true,
   "toc_window_display": false
  },
  "varInspector": {
   "cols": {
    "lenName": 16,
    "lenType": 16,
    "lenVar": 40
   },
   "kernels_config": {
    "python": {
     "delete_cmd_postfix": "",
     "delete_cmd_prefix": "del ",
     "library": "var_list.py",
     "varRefreshCmd": "print(var_dic_list())"
    },
    "r": {
     "delete_cmd_postfix": ") ",
     "delete_cmd_prefix": "rm(",
     "library": "var_list.r",
     "varRefreshCmd": "cat(var_dic_list()) "
    }
   },
   "types_to_exclude": [
    "module",
    "function",
    "builtin_function_or_method",
    "instance",
    "_Feature"
   ],
   "window_display": false
  }
 },
 "nbformat": 4,
 "nbformat_minor": 5
}
