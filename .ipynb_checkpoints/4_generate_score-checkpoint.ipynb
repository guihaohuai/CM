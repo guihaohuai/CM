{
 "cells": [
  {
   "cell_type": "code",
   "execution_count": 1,
   "id": "73f48909",
   "metadata": {},
   "outputs": [],
   "source": [
    "#数据预处理\n",
    "%matplotlib inline\n",
    "import numpy as np\n",
    "#import torch\n",
    "import pandas as pd\n",
    "import seaborn as sns\n",
    "import matplotlib.pyplot as plt\n",
    "#import missingno as msno\n",
    "\n",
    "#不加下面这一步进程很容易中断\n",
    "import os\n",
    "os.environ['KMP_DUPLICATE_LIB_OK']='True'\n",
    "os.environ[\"OMP_NUM_THREADS\"] = '9' \n",
    "\n",
    "#---------------------------------------------------\n",
    "import sklearn\n",
    "from sklearn import metrics\n",
    "from sklearn.metrics import RocCurveDisplay\n",
    "#加载模型：\n",
    "from sklearn import tree\n",
    "from sklearn.neighbors import KNeighborsClassifier\n",
    "from sklearn import linear_model\n",
    "\n",
    "from sklearn.naive_bayes import GaussianNB\n",
    "from sklearn.naive_bayes import MultinomialNB\n",
    "from sklearn.naive_bayes import BernoulliNB\n",
    "\n",
    "from sklearn import svm\n",
    "from sklearn.ensemble import RandomForestClassifier\n",
    "from xgboost import XGBClassifier\n",
    "from sklearn.ensemble import AdaBoostClassifier\n",
    "\n",
    "#---------------------------\n",
    "from sklearn.model_selection import GridSearchCV"
   ]
  },
  {
   "cell_type": "code",
   "execution_count": 2,
   "id": "1c0aed06",
   "metadata": {},
   "outputs": [],
   "source": [
    "#一些函数\n",
    "# get_train_test\n",
    "# get_dat->train_model\n",
    "# model\n",
    "\n",
    "#获得分折好的数据集\n",
    "def get_data(data,name):\n",
    "    train_data = data #train[0] / test[0]\n",
    "    target_name = name #\"y4\"\n",
    "    #读\n",
    "    df= train_data\n",
    "    features=df.columns.tolist()\n",
    "    features.remove( target_name )\n",
    "    y=df[ target_name ]\n",
    "    X=df[features].values\n",
    "    return X,y"
   ]
  },
  {
   "cell_type": "code",
   "execution_count": 3,
   "id": "aeaec8d2",
   "metadata": {},
   "outputs": [],
   "source": [
    "#读取最开始的数据\n",
    "fpath=\"./lasso/5_train_liux_subx.xlsx\"\n",
    "df=pd.read_excel(fpath)"
   ]
  },
  {
   "cell_type": "code",
   "execution_count": 4,
   "id": "acbf4bef",
   "metadata": {},
   "outputs": [],
   "source": [
    "X,y = get_data(df,\"随访>=3\")\n",
    "\"\"\"\n",
    "import xgboost as xgb\n",
    "para = {'max_depth': 12, 'min_child_weight': 0.7, 'n_estimators': 20, 'scale_pos_weight': 2.4}\n",
    "model = xgb.XGBClassifier(**para)\n",
    "\"\"\"\n",
    "from sklearn.linear_model import LogisticRegression\n",
    "para = {'C': 5, 'class_weight': 'balanced', 'penalty': 'l2', 'solver': 'liblinear'}\n",
    "model = LogisticRegression(**para)\n",
    "model.fit(X, y)\n",
    "\n",
    "\n",
    "# 预测概率\n",
    "y_probabilities_1 = model.predict_proba(X)\n",
    "\n",
    "\n",
    "#读取最开始的数据\n",
    "fpath=\"./lasso/6_test_liux_subx.xlsx\"\n",
    "df=pd.read_excel(fpath)\n",
    "X,y = get_data(df,\"随访>=3\")\n",
    "y_probabilities_2 = model.predict_proba(X)"
   ]
  },
  {
   "cell_type": "code",
   "execution_count": 5,
   "id": "aa40f823",
   "metadata": {},
   "outputs": [
    {
     "data": {
      "text/plain": [
       "array([0.32004706, 0.52619007, 0.29980969, 0.32210907, 0.44477471,\n",
       "       0.10177257, 0.38664522, 0.51060238, 0.44098417, 0.54479378,\n",
       "       0.25767874, 0.22414332, 0.33236832, 0.41759453, 0.48042696,\n",
       "       0.37825332, 0.18002674, 0.50231153, 0.39277882, 0.42567555,\n",
       "       0.31451999, 0.48294811, 0.40638905, 0.1921348 , 0.37164979,\n",
       "       0.16552808, 0.32241533, 0.32036214, 0.41932873, 0.36164526,\n",
       "       0.35714023, 0.44523844, 0.41634317, 0.33700572, 0.57290033,\n",
       "       0.52988979, 0.35674968, 0.45049194, 0.34579836, 0.51276262,\n",
       "       0.45177836, 0.34632765, 0.30347424, 0.14400413, 0.42026837,\n",
       "       0.45723901, 0.24740169, 0.33536993, 0.52098585, 0.3206726 ,\n",
       "       0.24280396, 0.36404115, 0.40131937, 0.10551361, 0.39359386,\n",
       "       0.42718359, 0.57553399, 0.24947928])"
      ]
     },
     "execution_count": 5,
     "metadata": {},
     "output_type": "execute_result"
    }
   ],
   "source": [
    "y_probabilities_1[:,1]\n",
    "y_probabilities_2[:,1]"
   ]
  },
  {
   "cell_type": "code",
   "execution_count": 6,
   "id": "37da92bf",
   "metadata": {},
   "outputs": [
    {
     "data": {
      "text/plain": [
       "array([0.14343579, 0.18822419, 0.42627226, 0.75456833, 0.45219388,\n",
       "       0.52213178, 0.68674172, 0.15554143, 0.7866223 , 0.46718563,\n",
       "       0.66236046, 0.443514  , 0.52208676, 0.64613586, 0.44513925,\n",
       "       0.8332276 , 0.50239539, 0.46277172, 0.66622309, 0.64744147,\n",
       "       0.145252  , 0.43099026, 0.57298011, 0.51474898, 0.65176723,\n",
       "       0.36949836, 0.7237595 , 0.55490606, 0.43483818, 0.20353146,\n",
       "       0.65431932, 0.26950819, 0.50895358, 0.33230487, 0.29507819,\n",
       "       0.54377151, 0.17045208, 0.39613167, 0.14913889, 0.45982691,\n",
       "       0.59312913, 0.41015124, 0.2999069 , 0.43085353, 0.39487938,\n",
       "       0.18651469, 0.53688987, 0.63395501, 0.47747915, 0.58270722,\n",
       "       0.83664778, 0.73477565, 0.45840139, 0.53123086, 0.28659047,\n",
       "       0.83813785, 0.34143749, 0.43867476, 0.56111692, 0.33691042,\n",
       "       0.24693023, 0.58016639, 0.89477932, 0.42371883, 0.53243081,\n",
       "       0.57402175, 0.37687585, 0.46086627, 0.37381739, 0.305787  ,\n",
       "       0.30635437, 0.83314687, 0.65042306, 0.4881548 , 0.83461542,\n",
       "       0.52555798, 0.26146802, 0.6345832 , 0.26029471, 0.30774445,\n",
       "       0.24252424, 0.6143619 , 0.79548281, 0.30386899, 0.67780128,\n",
       "       0.33498991, 0.46455122, 0.59521193, 0.62606953, 0.36596131,\n",
       "       0.34007272, 0.59922798, 0.6666611 , 0.60050204, 0.64987306,\n",
       "       0.23710713, 0.74866205, 0.48506074, 0.20286901, 0.82712618,\n",
       "       0.41034788, 0.58885875, 0.45577737, 0.49370745, 0.43300559,\n",
       "       0.56325116, 0.53099694, 0.67297142, 0.62672419, 0.40339657,\n",
       "       0.62202379, 0.42364322, 0.62178651, 0.74786986, 0.59162258,\n",
       "       0.36841539, 0.70399773, 0.56368102, 0.61388131, 0.52509918,\n",
       "       0.55749926, 0.6132349 , 0.68690738, 0.6365315 , 0.40221772,\n",
       "       0.57331501, 0.7110405 , 0.63789264, 0.72911919, 0.52739582,\n",
       "       0.5882635 , 0.48114954, 0.65533538, 0.83350995, 0.44575289,\n",
       "       0.452513  , 0.7322259 , 0.32315969, 0.40501819, 0.49435701,\n",
       "       0.53242459, 0.75379897, 0.4952526 , 0.46855064, 0.46053965,\n",
       "       0.52215273, 0.71608682, 0.32361861, 0.50621941, 0.31259323,\n",
       "       0.36438618, 0.70595123, 0.65698684, 0.44333857, 0.65837008,\n",
       "       0.91748304, 0.65111779, 0.54403559, 0.50133205, 0.53156945,\n",
       "       0.67995294, 0.47380993, 0.70019031, 0.67789093, 0.55522529,\n",
       "       0.89822743, 0.61335478, 0.48939762, 0.55901583, 0.45520622,\n",
       "       0.74232126, 0.77585668, 0.66763168, 0.58240547, 0.51957304,\n",
       "       0.62174668, 0.81997326, 0.49768847, 0.60722118, 0.57432445,\n",
       "       0.68548001, 0.51705189, 0.59361095, 0.8078652 , 0.62835021,\n",
       "       0.83447192, 0.67758467, 0.67963786, 0.58067127, 0.63835474,\n",
       "       0.64285977, 0.55476156, 0.58365683, 0.66299428, 0.42709967,\n",
       "       0.47011021, 0.64325032, 0.54950806, 0.65420164, 0.48723738,\n",
       "       0.54822164, 0.65367235, 0.69652576, 0.85599587, 0.57973163,\n",
       "       0.54276099, 0.75259831, 0.66463007, 0.47901415, 0.6793274 ,\n",
       "       0.75719604, 0.63595885, 0.59868063, 0.89448639, 0.60640614,\n",
       "       0.57281641, 0.42446601, 0.75052072])"
      ]
     },
     "execution_count": 6,
     "metadata": {},
     "output_type": "execute_result"
    }
   ],
   "source": [
    "np.concatenate((y_probabilities_1[:,0], y_probabilities_2[:,0]))"
   ]
  },
  {
   "cell_type": "code",
   "execution_count": 7,
   "id": "216b6f9e",
   "metadata": {},
   "outputs": [],
   "source": [
    "score = np.concatenate((y_probabilities_1[:,0], y_probabilities_2[:,0]))"
   ]
  },
  {
   "cell_type": "code",
   "execution_count": 8,
   "id": "69de1279",
   "metadata": {},
   "outputs": [],
   "source": [
    "score = pd.DataFrame({'score': score})"
   ]
  },
  {
   "cell_type": "code",
   "execution_count": 10,
   "id": "0312cb39",
   "metadata": {},
   "outputs": [],
   "source": [
    "fpath_out=\"./lasso/7_score.xlsx\"\n",
    "score.to_excel(fpath_out,index=False)# index=False 避免为索引添加一列特征   #utf_8_sig   utf-8"
   ]
  },
  {
   "cell_type": "code",
   "execution_count": 11,
   "id": "a3a2d71f",
   "metadata": {},
   "outputs": [],
   "source": [
    "fpath=\"./data/norm_3_train_med.xlsx\"\n",
    "df1=pd.read_excel(fpath)\n",
    "df1 = df1.fillna(0)\n",
    "\n",
    "fpath=\"./data/norm_4_test_med.xlsx\"\n",
    "df2=pd.read_excel(fpath)\n",
    "df2 = df2.fillna(0)\n",
    "\n",
    "df = pd.concat([df1,df2],axis=0)"
   ]
  },
  {
   "cell_type": "code",
   "execution_count": 13,
   "id": "29f32531",
   "metadata": {},
   "outputs": [],
   "source": [
    "grouped = df.groupby(\"随访>=3\")\n",
    "#grouped = df.groupby(\"随访>入院\")\n",
    "\n",
    "# 获取两个组的数据\n",
    "group_a = grouped.get_group(1)\n",
    "group_b = grouped.get_group(0)"
   ]
  },
  {
   "cell_type": "code",
   "execution_count": 14,
   "id": "2bd547e5",
   "metadata": {},
   "outputs": [
    {
     "name": "stdout",
     "output_type": "stream",
     "text": [
      "------秩和检验筛选特征个数: 8 ------\n",
      "年龄 - 0.01619\n",
      "既往治疗 - 0.01943\n",
      "入路方向（2） - 0.00399\n",
      "累计症状性出血次数 - 0.00100\n",
      "出血时间 （3） - 0.03062\n",
      "入院时MRS - 0.00002\n",
      "是否神经功能障碍 - 0.01781\n",
      "随访>3 - 0.00000\n"
     ]
    }
   ],
   "source": [
    "#进行秩和检验（不需要样本长度一致），进行第一步筛选--------------------------------------\n",
    "\n",
    "#https://zhuanlan.zhihu.com/p/555119816\n",
    "#from scipy.stats import wilcoxon #需要样本长度一致\n",
    "from scipy.stats import mannwhitneyu\n",
    "\n",
    "alpha = 0.05\n",
    "\n",
    "test_name = []\n",
    "test_p = []\n",
    "for i in group_a.columns.to_list()[:-1]:\n",
    "    tp1 = group_a[i].tolist()\n",
    "    tp2 = group_b[i].tolist()\n",
    "    statistic, p_value = mannwhitneyu(tp1, tp2, alternative='two-sided')#wilcoxon(tp1, tp2)\n",
    "    if i == \"入路方向（2or3）\":\n",
    "        print(p_value)\n",
    "    if p_value < alpha:\n",
    "        #print(\"拒绝零假设，两个样本的中位数存在显著差异\")\n",
    "        #print(\"{0} - {1:.5f}\".format( i , p_value))\n",
    "        test_name.append(i)\n",
    "        test_p.append(p_value)\n",
    "    else:\n",
    "        #print(\"未拒绝零假设，两个样本的中位数无显著差异\")\n",
    "        pass\n",
    "print(\"------秩和检验筛选特征个数:\",len(test_name),\"------\")\n",
    "\"\"\"\n",
    "if len(test_name)<=30:\n",
    "    for i in range(len(test_name)):\n",
    "        print(\"{0} - {1:.5f}\".format( test_name[i] , test_p[i]))\n",
    "else:\n",
    "    top_30_indices = np.argsort(test_p)[:30]\n",
    "    test_name = [test_name[i] for i in top_30_indices]\n",
    "    test_p = [test_p[i] for i in top_30_indices]\n",
    "    for i in range(len(test_name)):\n",
    "        print(\"{0} - {1:.5f}\".format( test_name[i] , test_p[i]))\n",
    "\"\"\"\n",
    "#如果只取前30个就只剩下sub2了  实际上181中1 2 3都有\n",
    "for i in range(len(test_name)):\n",
    "    print(\"{0} - {1:.5f}\".format( test_name[i] , test_p[i]))"
   ]
  },
  {
   "cell_type": "code",
   "execution_count": 15,
   "id": "7707ee42",
   "metadata": {},
   "outputs": [],
   "source": [
    "test_name.append(\"随访>=3\")\n",
    "test_name.remove(\"随访>3\")"
   ]
  },
  {
   "cell_type": "code",
   "execution_count": 16,
   "id": "83c46ff9",
   "metadata": {},
   "outputs": [],
   "source": [
    "df = df[test_name]"
   ]
  },
  {
   "cell_type": "code",
   "execution_count": 17,
   "id": "672e2ecd",
   "metadata": {},
   "outputs": [],
   "source": [
    "df1 = df.head(160)\n",
    "df2 = df.tail(58)"
   ]
  },
  {
   "cell_type": "code",
   "execution_count": 18,
   "id": "beb29cfc",
   "metadata": {},
   "outputs": [],
   "source": [
    "fpath_out=\"./lasso/8_train_score_med.xlsx\"\n",
    "df1.to_excel(fpath_out,index=False)# index=False 避免为索引添加一列特征   #utf_8_sig   utf-8\n",
    "\n",
    "fpath_out=\"./lasso/9_test_score_med.xlsx\"\n",
    "df2.to_excel(fpath_out,index=False)# index=False 避免为索引添加一列特征   #utf_8_sig   utf-8"
   ]
  }
 ],
 "metadata": {
  "kernelspec": {
   "display_name": "Python 3 (ipykernel)",
   "language": "python",
   "name": "python3"
  },
  "language_info": {
   "codemirror_mode": {
    "name": "ipython",
    "version": 3
   },
   "file_extension": ".py",
   "mimetype": "text/x-python",
   "name": "python",
   "nbconvert_exporter": "python",
   "pygments_lexer": "ipython3",
   "version": "3.11.5"
  },
  "toc": {
   "base_numbering": 1,
   "nav_menu": {},
   "number_sections": true,
   "sideBar": true,
   "skip_h1_title": false,
   "title_cell": "Table of Contents",
   "title_sidebar": "Contents",
   "toc_cell": false,
   "toc_position": {},
   "toc_section_display": true,
   "toc_window_display": false
  },
  "varInspector": {
   "cols": {
    "lenName": 16,
    "lenType": 16,
    "lenVar": 40
   },
   "kernels_config": {
    "python": {
     "delete_cmd_postfix": "",
     "delete_cmd_prefix": "del ",
     "library": "var_list.py",
     "varRefreshCmd": "print(var_dic_list())"
    },
    "r": {
     "delete_cmd_postfix": ") ",
     "delete_cmd_prefix": "rm(",
     "library": "var_list.r",
     "varRefreshCmd": "cat(var_dic_list()) "
    }
   },
   "types_to_exclude": [
    "module",
    "function",
    "builtin_function_or_method",
    "instance",
    "_Feature"
   ],
   "window_display": false
  }
 },
 "nbformat": 4,
 "nbformat_minor": 5
}
