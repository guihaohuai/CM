{
 "cells": [
  {
   "cell_type": "code",
   "execution_count": null,
   "id": "69e58736",
   "metadata": {
    "scrolled": true
   },
   "outputs": [],
   "source": [
    "#数据预处理\n",
    "%matplotlib inline\n",
    "import numpy as np\n",
    "import torch\n",
    "import pandas as pd\n",
    "import seaborn as sns\n",
    "import matplotlib.pyplot as plt\n",
    "import missingno as msno\n",
    "\n",
    "import os\n",
    "os.environ['KMP_DUPLICATE_LIB_OK']='True'\n",
    "os.environ[\"OMP_NUM_THREADS\"] = '9'  \n"
   ]
  },
  {
   "cell_type": "code",
   "execution_count": null,
   "id": "1c79cd1d",
   "metadata": {},
   "outputs": [],
   "source": [
    "fpath=\"./original_data/bscm_2.xlsx\"\n",
    "df=pd.read_excel(fpath)"
   ]
  },
  {
   "cell_type": "code",
   "execution_count": null,
   "id": "53b9172e",
   "metadata": {},
   "outputs": [],
   "source": [
    "df.drop(labels=[\"入院mrs\"],axis=1,inplace=True)\n",
    "df.drop(labels=[\"出院mrs\"],axis=1,inplace=True)\n",
    "df.drop(labels=[\"随访mrs\"],axis=1,inplace=True)\n",
    "df.drop(labels=[\"ID\"],axis=1,inplace=True)"
   ]
  },
  {
   "cell_type": "code",
   "execution_count": null,
   "id": "34f6208f",
   "metadata": {},
   "outputs": [],
   "source": [
    "for i in range(len(df)):\n",
    "    if df[\"性别\"][i] ==\"男\":\n",
    "        df[\"性别\"][i]=1\n",
    "    else:\n",
    "        df[\"性别\"][i]=0 "
   ]
  },
  {
   "cell_type": "code",
   "execution_count": null,
   "id": "23520c35",
   "metadata": {},
   "outputs": [],
   "source": [
    "for i in range(len(df)):\n",
    "    if df[\"Zabramski分类\"][i] ==\"I\":\n",
    "        df[\"Zabramski分类\"][i]=1\n",
    "    if df[\"Zabramski分类\"][i] ==\"II\":\n",
    "        df[\"Zabramski分类\"][i]=2\n",
    "    if df[\"Zabramski分类\"][i] ==\"III\":\n",
    "        df[\"Zabramski分类\"][i]=3\n",
    "    #if df[\"Zabramski分类\"][i] ==\"男\":\n",
    "    #    df[\"Zabramski分类\"][i]=4 "
   ]
  },
  {
   "cell_type": "code",
   "execution_count": null,
   "id": "435a1660",
   "metadata": {},
   "outputs": [],
   "source": [
    "f_names=[\"年龄\",\"BMI\",\"病变大小\"]\n",
    "\n",
    "for i in f_names:\n",
    "    temp_min = df[[i]].min()\n",
    "    df[[i]]=df[[i]]-temp_min\n",
    "    temp_max  = df[[i]].max()\n",
    "    df[[i]] = df[[i]]/temp_max"
   ]
  },
  {
   "cell_type": "code",
   "execution_count": null,
   "id": "8f2ecac5",
   "metadata": {},
   "outputs": [],
   "source": [
    "df.drop(labels=[\"y1\"],axis=1,inplace=True)\n",
    "df.drop(labels=[\"y2\"],axis=1,inplace=True)\n",
    "df.drop(labels=[\"y3\"],axis=1,inplace=True)\n",
    "#df.drop(labels=[\"y4\"],axis=1,inplace=True)"
   ]
  },
  {
   "cell_type": "code",
   "execution_count": null,
   "id": "4729c69e",
   "metadata": {},
   "outputs": [],
   "source": [
    "df.drop(labels=[\"较术前有无新发神经功能障碍\"],axis=1,inplace=True)\n",
    "df.drop(labels=[\"术后肌力有无下降\"],axis=1,inplace=True)\n",
    "df.drop(labels=[\"是否气管切开\"],axis=1,inplace=True)\n",
    "df.drop(labels=[\"复发/残留\"],axis=1,inplace=True)"
   ]
  },
  {
   "cell_type": "code",
   "execution_count": null,
   "id": "48ed7c16",
   "metadata": {},
   "outputs": [],
   "source": [
    "import sklearn\n",
    "from sklearn.linear_model import LogisticRegression\n",
    "\n",
    "\n",
    "\n",
    "clf=LogisticRegression(penalty = \"l1\",solver='liblinear')\n",
    "y=df[[\"y4\"]]\n",
    "X=df[df.columns.tolist()[:-1]]\n",
    "\n",
    "clf.fit(X, y)\n",
    "\n",
    "features=df.columns.tolist()[:-1]\n",
    "\n",
    "importance = clf.coef_[0]\n",
    "importance = abs(importance)/max(abs(importance))\n",
    "indices = np.argsort(-importance)\n",
    "num_features = len(importance)\n",
    "\n",
    "feature_sort=[]\n",
    "for i in indices:\n",
    "        print(\"{0} - {1:.3f}\".format(features[i], importance[i]))\n",
    "        feature_sort.append(features[i])\n",
    "\n",
    "#plt.figure()\n",
    "#plt.title(\"Feature importances\")\n",
    "\n",
    "plt.figure(dpi=200, figsize=(20, 20))\n",
    "sns.set(font='SimHei')\n",
    "s1=pd.Series(importance, name=\"importance\")\n",
    "s2=pd.Series(features, name=\"features\")\n",
    "sns_df=pd.concat([s1, s2], axis=1, ignore_index=False)\n",
    "sns_df=sns_df.sort_values(by=[\"importance\"], ascending=[True])\n",
    "#print(sns_df)\n",
    "sns.set_style(\"whitegrid\")\n",
    "sns.barplot(y=sns_df[\"features\"],x=sns_df[\"importance\"],palette=\"Blues\",orient=\"h\")\n",
    "plt.ylim([-1, num_features])\n",
    "plt.tight_layout()  \n",
    "plt.show()"
   ]
  },
  {
   "cell_type": "code",
   "execution_count": null,
   "id": "e6883f92",
   "metadata": {},
   "outputs": [],
   "source": [
    "df = df[[\"y4\"]+df.columns.tolist()[:-1]]"
   ]
  },
  {
   "cell_type": "code",
   "execution_count": null,
   "id": "69eaeaa5",
   "metadata": {},
   "outputs": [],
   "source": [
    "fpath_out=\"./original_data/bscm2_4.csv\"\n",
    "df.to_csv(fpath_out,encoding='utf_8_sig',index=False)"
   ]
  }
 ],
 "metadata": {
  "kernelspec": {
   "display_name": "Python 3 (ipykernel)",
   "language": "python",
   "name": "python3"
  },
  "language_info": {
   "codemirror_mode": {
    "name": "ipython",
    "version": 3
   },
   "file_extension": ".py",
   "mimetype": "text/x-python",
   "name": "python",
   "nbconvert_exporter": "python",
   "pygments_lexer": "ipython3",
   "version": "3.11.5"
  },
  "toc": {
   "base_numbering": 1,
   "nav_menu": {},
   "number_sections": true,
   "sideBar": true,
   "skip_h1_title": false,
   "title_cell": "Table of Contents",
   "title_sidebar": "Contents",
   "toc_cell": false,
   "toc_position": {},
   "toc_section_display": true,
   "toc_window_display": false
  },
  "varInspector": {
   "cols": {
    "lenName": 16,
    "lenType": 16,
    "lenVar": 40
   },
   "kernels_config": {
    "python": {
     "delete_cmd_postfix": "",
     "delete_cmd_prefix": "del ",
     "library": "var_list.py",
     "varRefreshCmd": "print(var_dic_list())"
    },
    "r": {
     "delete_cmd_postfix": ") ",
     "delete_cmd_prefix": "rm(",
     "library": "var_list.r",
     "varRefreshCmd": "cat(var_dic_list()) "
    }
   },
   "types_to_exclude": [
    "module",
    "function",
    "builtin_function_or_method",
    "instance",
    "_Feature"
   ],
   "window_display": false
  }
 },
 "nbformat": 4,
 "nbformat_minor": 5
}
