{
 "cells": [
  {
   "cell_type": "code",
   "execution_count": null,
   "id": "acf9f3e2",
   "metadata": {},
   "outputs": [],
   "source": [
    "import nibabel as nib\n",
    "import numpy as np"
   ]
  },
  {
   "cell_type": "code",
   "execution_count": null,
   "id": "47033830",
   "metadata": {},
   "outputs": [],
   "source": [
    "fpath1= \"C:/Users/pc_207/Desktop/2023a_cm\" + \"/T2.nii.gz\"\n",
    "img = nib.load(fpath1)\n",
    "\n",
    "fpath2= \"C:/Users/pc_207/Desktop/2023a_cm\" + \"/T2_mask.nii\"\n",
    "mask = nib.load(fpath2)"
   ]
  },
  {
   "cell_type": "code",
   "execution_count": null,
   "id": "c73ff774",
   "metadata": {},
   "outputs": [],
   "source": [
    "#获得分辨率基本信息\n",
    "width,height,queue=img.dataobj.shape\n",
    "pixdim = img.header[\"pixdim\"]\n",
    "print( \"shape:\",width,height,queue,\"pixdim:\",pixdim[1],pixdim[2],pixdim[3])"
   ]
  },
  {
   "cell_type": "code",
   "execution_count": null,
   "id": "f8993022",
   "metadata": {},
   "outputs": [],
   "source": [
    "img_arr = img.dataobj[:, :, :]\n",
    "mask_arr = mask.dataobj[:, :, :]"
   ]
  },
  {
   "cell_type": "code",
   "execution_count": null,
   "id": "99be414e",
   "metadata": {},
   "outputs": [],
   "source": [
    "import matplotlib.pyplot as plt\n",
    "plt.subplot(1,2,1)\n",
    "plt.imshow(img_arr[:,:,15],cmap=\"gray\")\n",
    "plt.subplot(1,2,2)\n",
    "plt.imshow(mask_arr[:,:,15],cmap=\"gray\")"
   ]
  },
  {
   "cell_type": "code",
   "execution_count": null,
   "id": "47e14e25",
   "metadata": {},
   "outputs": [],
   "source": [
    "img_data = img.dataobj[:, :, :]\n",
    "mask_data = mask.dataobj[:, :, :]\n",
    "\n",
    "atom = 1#0.5#mm\n",
    "s1,s2,s3=img.dataobj.shape\n",
    "pixdim = img.header[\"pixdim\"]\n",
    "p1,p2,p3=pixdim[1],pixdim[2],pixdim[3]\n",
    "\n",
    "ss1,ss2,ss3=mask.dataobj.shape\n",
    "pixdim = mask.header[\"pixdim\"]\n",
    "pp1,pp2,pp3=pixdim[1],pixdim[2],pixdim[3]\n",
    "\n",
    "if(s1==ss1 and s2==ss2 and s3==ss3 and p1==pp1 and p2==pp2 and p3==pp3):\n",
    "    print(\"True\")\n",
    "\n",
    "print( s1,s2,s3,p1,p2,p3)\n",
    "t1 = int((s1*p1/atom)+1)\n",
    "t2 = int((s2*p2/atom)+1)\n",
    "t3 = int((s3*p3/atom)+1)\n",
    "print(t1,t2,t3)"
   ]
  },
  {
   "cell_type": "code",
   "execution_count": null,
   "id": "282d7a3f",
   "metadata": {},
   "outputs": [],
   "source": [
    "from scipy.ndimage import zoom\n",
    "output_shape = (t1,t2,t3)\n",
    "img_data = zoom(img_data, output_shape / np.array(img_data.shape), order=3)\n",
    "print(\"finish img\")\n",
    "mask_data = zoom(mask_data, output_shape / np.array(mask_data.shape), order=3)\n",
    "print(\"finish mask\")\n",
    "mask_data[mask_data>0]=1\n",
    "print(\"finish binarization\")"
   ]
  },
  {
   "cell_type": "code",
   "execution_count": null,
   "id": "cf0ea6c6",
   "metadata": {},
   "outputs": [],
   "source": [
    "new_img = nib.Nifti1Image(img_data, img.affine)\n",
    "new_mask = nib.Nifti1Image(mask_data, img.affine)\n",
    "\n",
    "nib.save(new_img, \"./tp/T2.nii.gz\")\n",
    "nib.save(new_mask, \"./tp/T2_mask.nii.gz\")"
   ]
  },
  {
   "cell_type": "code",
   "execution_count": null,
   "id": "08c448bf",
   "metadata": {},
   "outputs": [],
   "source": [
    "new_img.shape"
   ]
  },
  {
   "cell_type": "code",
   "execution_count": null,
   "id": "cacbb842",
   "metadata": {},
   "outputs": [],
   "source": [
    "from radiomics import featureextractor\n",
    "import six\n",
    "\n",
    "#imageFile = fpath1\n",
    "#maskFile = fpath2\n",
    "imageFile = \"./tp/T2.nii.gz\"\n",
    "maskFile = \"./tp/T2_mask.nii.gz\"\n",
    "\n",
    "extractor = featureextractor.RadiomicsFeatureExtractor(geometryTolerance = 1000)\n",
    "\n",
    "#extractor.enableImageTypeByName()\n",
    "\n",
    "extractor.enableAllImageTypes() \n",
    "\n",
    "\n",
    "featureVector = extractor.execute(imageFile, maskFile, voxelBased=False)"
   ]
  },
  {
   "cell_type": "code",
   "execution_count": null,
   "id": "3eaf35f3",
   "metadata": {},
   "outputs": [],
   "source": [
    "num_f = 0\n",
    "for k,v in six.iteritems(featureVector):\n",
    "    if(k[0:11] == \"diagnostics\"):、\n",
    "        continue\n",
    "    print(k,\":\", v)\n",
    "    num_f = num_f + 1\n",
    "print(\"\\n共产生\",num_f,\"个特征\")"
   ]
  }
 ],
 "metadata": {
  "kernelspec": {
   "display_name": "Python 3 (ipykernel)",
   "language": "python",
   "name": "python3"
  },
  "language_info": {
   "codemirror_mode": {
    "name": "ipython",
    "version": 3
   },
   "file_extension": ".py",
   "mimetype": "text/x-python",
   "name": "python",
   "nbconvert_exporter": "python",
   "pygments_lexer": "ipython3",
   "version": "3.11.5"
  },
  "toc": {
   "base_numbering": 1,
   "nav_menu": {},
   "number_sections": true,
   "sideBar": true,
   "skip_h1_title": false,
   "title_cell": "Table of Contents",
   "title_sidebar": "Contents",
   "toc_cell": false,
   "toc_position": {},
   "toc_section_display": true,
   "toc_window_display": false
  },
  "varInspector": {
   "cols": {
    "lenName": 16,
    "lenType": 16,
    "lenVar": 40
   },
   "kernels_config": {
    "python": {
     "delete_cmd_postfix": "",
     "delete_cmd_prefix": "del ",
     "library": "var_list.py",
     "varRefreshCmd": "print(var_dic_list())"
    },
    "r": {
     "delete_cmd_postfix": ") ",
     "delete_cmd_prefix": "rm(",
     "library": "var_list.r",
     "varRefreshCmd": "cat(var_dic_list()) "
    }
   },
   "types_to_exclude": [
    "module",
    "function",
    "builtin_function_or_method",
    "instance",
    "_Feature"
   ],
   "window_display": false
  }
 },
 "nbformat": 4,
 "nbformat_minor": 5
}
