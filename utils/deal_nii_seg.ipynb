{
 "cells": [
  {
   "cell_type": "code",
   "execution_count": null,
   "id": "fedb0b5d",
   "metadata": {},
   "outputs": [],
   "source": [
    "import nibabel as nib\n",
    "import numpy as np\n",
    "import matplotlib.pyplot as plt\n",
    "from queue import Queue\n",
    "from scipy import ndimage"
   ]
  },
  {
   "cell_type": "code",
   "execution_count": null,
   "id": "bfed4e27",
   "metadata": {},
   "outputs": [],
   "source": [
    "#加载数据\n",
    "fpath1= \"C:/Users/pc_207/Desktop/2023a_cm\" + \"/seg_nii/T2_3.nii.gz\"\n",
    "img = nib.load(fpath1)\n",
    "\n",
    "#加载mask\n",
    "fpath2= \"C:/Users/pc_207/Desktop/2023a_cm\" + \"/seg_nii/T2_mask_3.nii\"\n",
    "mask = nib.load(fpath2)\n",
    "\n",
    "#加载seg\n",
    "fpath3= \"C:/Users/pc_207/Desktop/2023a_cm\" + \"/seg_nii/T2_seg_mask_3.nii.gz\"\n",
    "seg_mask = nib.load(fpath3)"
   ]
  },
  {
   "cell_type": "code",
   "execution_count": null,
   "id": "b7b8484e",
   "metadata": {},
   "outputs": [],
   "source": [
    "width,height,queue=img.dataobj.shape#img.dataobj.shape[0:3]\n",
    "pixdim = img.header[\"pixdim\"]\n",
    "print( \"shape:\",width,height,queue,\"pixdim:\",pixdim[1],pixdim[2],pixdim[3])"
   ]
  },
  {
   "cell_type": "code",
   "execution_count": null,
   "id": "2dfa6db3",
   "metadata": {},
   "outputs": [],
   "source": [
    "def get_edge(edge,num,start,flag):\n",
    "    temp=0\n",
    "    num=num\n",
    "    while temp==0:\n",
    "        if flag == 0:\n",
    "            temp = np.sum(edge[num,:,:])\n",
    "        if flag == 1:\n",
    "            temp = np.sum(edge[:,num,:])\n",
    "        if flag == 2:\n",
    "            temp = np.sum(edge[:,:,num])\n",
    "        if start:\n",
    "            num = num+1\n",
    "        else:\n",
    "            num = num-1\n",
    "    if start:\n",
    "        return num-1\n",
    "    else:\n",
    "        return num+1\n",
    "\n",
    "e1 = get_edge(seg_mask.dataobj[:, :, :], 0, True,0)\n",
    "e2 = get_edge(seg_mask.dataobj[:, :, :], 256-1, False,0)\n",
    "e3 = get_edge(seg_mask.dataobj[:, :, :], 0, True,1)\n",
    "e4 = get_edge(seg_mask.dataobj[:, :, :], 256-1, False,1)\n",
    "e5 = get_edge(seg_mask.dataobj[:, :, :], 0, True,2)\n",
    "e6 = get_edge(seg_mask.dataobj[:, :, :], 192-1, False,2)"
   ]
  },
  {
   "cell_type": "code",
   "execution_count": null,
   "id": "86d21679",
   "metadata": {},
   "outputs": [],
   "source": [
    "len_x,len_y,len_z = e2-e1,e4-e3,e6-e5\n",
    "print(len_x,len_y,len_z)\n",
    "\n",
    "img_arr = img.dataobj[e1:e2, e3:e4, e5:e6]#[:,:,:,0,0]\n",
    "mask_arr = mask.dataobj[e1:e2, e3:e4, e5:e6]\n",
    "seg_mask_arr = seg_mask.dataobj[e1:e2, e3:e4, e5:e6]/2\n",
    "\n",
    "#先减去再生长\n",
    "img_arr = img_arr*(1-mask_arr)"
   ]
  },
  {
   "cell_type": "code",
   "execution_count": null,
   "id": "693bc992",
   "metadata": {},
   "outputs": [],
   "source": [
    "#plt.imshow(seg_mask_arr[15,:,:],cmap=\"gray\")"
   ]
  },
  {
   "cell_type": "code",
   "execution_count": null,
   "id": "9eca603b",
   "metadata": {},
   "outputs": [],
   "source": [
    "def grow_seg(image, seed, threshold,th2=0.5):\n",
    "                            \n",
    "    height, width, depth = image.shape\n",
    "    segmented = np.zeros_like(image)\n",
    "    visited = np.zeros_like(image)\n",
    "    \n",
    "    q = Queue()\n",
    "    q.put(seed)\n",
    "    region_sum = 0\n",
    "    region_size = 0\n",
    "    \n",
    "    while not q.empty():\n",
    "        current = q.get()\n",
    "        x, y, z = current\n",
    "        if visited[x, y, z]:\n",
    "            continue\n",
    "        \n",
    "        visited[x, y, z] = 1\n",
    "        if np.abs(image[x, y, z] - image[seed]) <= threshold:\n",
    "            segmented[x, y, z] = 1\n",
    "            region_sum += image[x, y, z]\n",
    "            region_size += 1\n",
    "            \n",
    "            for i in range(-1, 2):\n",
    "                for j in range(-1, 2):\n",
    "                    for k in range(-1, 2):\n",
    "                        if 0 <= x+i < height and 0 <= y+j < width and 0 <= z+k < depth:\n",
    "                            if np.abs(image[x+i, y+j, z+k] - image[x, y, z]) <= 0.02:#这里是我后加的\n",
    "                                q.put((x+i, y+j, z+k))\n",
    "                                \n",
    "    \n",
    "    for i in range(segmented.shape[2]):\n",
    "        image = segmented[:,:,i]\n",
    "        labeled_image, num_features = ndimage.label(image)\n",
    "\n",
    "        \n",
    "        sizes = ndimage.sum(image, labeled_image, range(1, num_features + 1))\n",
    "\n",
    "       \n",
    "        max_label = np.argmax(sizes) + 1\n",
    "\n",
    "        \n",
    "        largest_component = (labeled_image == max_label).astype(np.uint8)\n",
    "        segmented[:,:,i] = largest_component\n",
    "    for i in range(segmented.shape[0]):\n",
    "        image = segmented[i,:,:]\n",
    "        labeled_image, num_features = ndimage.label(image)\n",
    "\n",
    "       \n",
    "        sizes = ndimage.sum(image, labeled_image, range(1, num_features + 1))\n",
    "\n",
    "        \n",
    "        max_label = np.argmax(sizes) + 1\n",
    "\n",
    "        \n",
    "        largest_component = (labeled_image == max_label).astype(np.uint8)\n",
    "        segmented[i,:,:] = largest_component\n",
    "    for i in range(segmented.shape[1]):\n",
    "        image = segmented[:,i,:]\n",
    "        labeled_image, num_features = ndimage.label(image)\n",
    "\n",
    "        \n",
    "        sizes = ndimage.sum(image, labeled_image, range(1, num_features + 1))\n",
    "\n",
    "        \n",
    "        max_label = np.argmax(sizes) + 1\n",
    "\n",
    "        \n",
    "        largest_component = (labeled_image == max_label).astype(np.uint8)\n",
    "        segmented[:,i,:] = largest_component\n",
    "    \n",
    "    return segmented\n",
    "\n",
    "img_arr = img_arr-np.min(img_arr)\n",
    "img_arr = img_arr/np.max(img_arr)\n",
    "seg_arr = grow_seg(img_arr,(int(len_x/2),int(len_y/2),int(len_z/2)),0.1)"
   ]
  },
  {
   "cell_type": "code",
   "execution_count": null,
   "id": "e0a82c08",
   "metadata": {},
   "outputs": [],
   "source": [
    "for i in range(len_z):\n",
    "    \n",
    "    plt.subplot(1,3,1)\n",
    "    plt.imshow(seg_arr[:,:,i],cmap=\"gray\")\n",
    "    \n",
    "    plt.subplot(1,3,2)\n",
    "    plt.imshow(seg_mask_arr[:,:,i],cmap=\"gray\")\n",
    "    \n",
    "    plt.subplot(1,3,3)\n",
    "    plt.imshow( np.abs(seg_arr[:,:,i]-seg_mask_arr[:,:,i]),cmap=\"gray\")\n",
    "    plt.show()\n",
    "    input()"
   ]
  }
 ],
 "metadata": {
  "kernelspec": {
   "display_name": "Python 3 (ipykernel)",
   "language": "python",
   "name": "python3"
  },
  "language_info": {
   "codemirror_mode": {
    "name": "ipython",
    "version": 3
   },
   "file_extension": ".py",
   "mimetype": "text/x-python",
   "name": "python",
   "nbconvert_exporter": "python",
   "pygments_lexer": "ipython3",
   "version": "3.11.5"
  },
  "toc": {
   "base_numbering": 1,
   "nav_menu": {},
   "number_sections": true,
   "sideBar": true,
   "skip_h1_title": false,
   "title_cell": "Table of Contents",
   "title_sidebar": "Contents",
   "toc_cell": false,
   "toc_position": {},
   "toc_section_display": true,
   "toc_window_display": false
  },
  "varInspector": {
   "cols": {
    "lenName": 16,
    "lenType": 16,
    "lenVar": 40
   },
   "kernels_config": {
    "python": {
     "delete_cmd_postfix": "",
     "delete_cmd_prefix": "del ",
     "library": "var_list.py",
     "varRefreshCmd": "print(var_dic_list())"
    },
    "r": {
     "delete_cmd_postfix": ") ",
     "delete_cmd_prefix": "rm(",
     "library": "var_list.r",
     "varRefreshCmd": "cat(var_dic_list()) "
    }
   },
   "types_to_exclude": [
    "module",
    "function",
    "builtin_function_or_method",
    "instance",
    "_Feature"
   ],
   "window_display": false
  }
 },
 "nbformat": 4,
 "nbformat_minor": 5
}
